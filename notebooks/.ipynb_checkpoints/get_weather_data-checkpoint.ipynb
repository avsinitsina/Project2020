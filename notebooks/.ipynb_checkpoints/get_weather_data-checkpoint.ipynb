{
 "cells": [
  {
   "cell_type": "code",
   "execution_count": 2,
   "metadata": {},
   "outputs": [],
   "source": [
    "import pandas as pd\n",
    "import numpy as np\n",
    "import tensorflow as tf\n",
    "import datetime as dt"
   ]
  },
  {
   "cell_type": "code",
   "execution_count": 3,
   "metadata": {},
   "outputs": [],
   "source": [
    "df = pd.read_csv('C:\\\\Users\\\\Анна\\\\OneDrive\\\\Project2020\\\\data\\\\weather_data2.csv', sep=';')"
   ]
  },
  {
   "cell_type": "code",
   "execution_count": 4,
   "metadata": {},
   "outputs": [],
   "source": [
    "df = df.drop(df.columns[[4, 5, 6, 8, 9, 11, 12, 13]], axis=1)  "
   ]
  },
  {
   "cell_type": "code",
   "execution_count": 5,
   "metadata": {},
   "outputs": [
    {
     "output_type": "execute_result",
     "data": {
      "text/plain": "   time      date wind_direction wind_speed  temperature  \\\n0     0  19.02.20            250          8            0   \n1   100  19.02.20            240          7            0   \n2   200  19.02.20            240          8            0   \n3   300  19.02.20            250          8            1   \n4   400  19.02.20            240          7            1   \n\n   effective_temperature  \n0                     -4  \n1                     -4  \n2                     -4  \n3                     -3  \n4                     -3  ",
      "text/html": "<div>\n<style scoped>\n    .dataframe tbody tr th:only-of-type {\n        vertical-align: middle;\n    }\n\n    .dataframe tbody tr th {\n        vertical-align: top;\n    }\n\n    .dataframe thead th {\n        text-align: right;\n    }\n</style>\n<table border=\"1\" class=\"dataframe\">\n  <thead>\n    <tr style=\"text-align: right;\">\n      <th></th>\n      <th>time</th>\n      <th>date</th>\n      <th>wind_direction</th>\n      <th>wind_speed</th>\n      <th>temperature</th>\n      <th>effective_temperature</th>\n    </tr>\n  </thead>\n  <tbody>\n    <tr>\n      <th>0</th>\n      <td>0</td>\n      <td>19.02.20</td>\n      <td>250</td>\n      <td>8</td>\n      <td>0</td>\n      <td>-4</td>\n    </tr>\n    <tr>\n      <th>1</th>\n      <td>100</td>\n      <td>19.02.20</td>\n      <td>240</td>\n      <td>7</td>\n      <td>0</td>\n      <td>-4</td>\n    </tr>\n    <tr>\n      <th>2</th>\n      <td>200</td>\n      <td>19.02.20</td>\n      <td>240</td>\n      <td>8</td>\n      <td>0</td>\n      <td>-4</td>\n    </tr>\n    <tr>\n      <th>3</th>\n      <td>300</td>\n      <td>19.02.20</td>\n      <td>250</td>\n      <td>8</td>\n      <td>1</td>\n      <td>-3</td>\n    </tr>\n    <tr>\n      <th>4</th>\n      <td>400</td>\n      <td>19.02.20</td>\n      <td>240</td>\n      <td>7</td>\n      <td>1</td>\n      <td>-3</td>\n    </tr>\n  </tbody>\n</table>\n</div>"
     },
     "metadata": {},
     "execution_count": 5
    }
   ],
   "source": [
    "df.head()"
   ]
  },
  {
   "cell_type": "code",
   "execution_count": 6,
   "metadata": {},
   "outputs": [],
   "source": [
    "pd.set_option('display.max_rows', None) #can be deleted\n",
    "\n",
    "# wind_direction cast and transform of data\n",
    "df.loc[df['wind_direction'] == 'тихо', 'wind_direction'] = '0'\n",
    "df.loc[df['wind_direction'] == 'нст', 'wind_direction'] = '-1'\n",
    "df[\"wind_direction\"] = df['wind_direction'].astype(str).astype(int)\n",
    "\n",
    "# wind_speed cast and transform of non-integer data to its mean value\n",
    "df.loc[df['wind_speed'].isnull(), 'wind_speed'] = '0'\n",
    "new = df['wind_speed'].str.split('-', expand = True) \n",
    "\n",
    "df[\"wind_speed1\"]= new[0] \n",
    "df.loc[df['wind_speed'].str.contains('-') == 0, \"wind_speed2\"]= new[0] \n",
    "df.loc[df['wind_speed'].str.contains('-'), \"wind_speed2\"]= new[1]\n",
    "\n",
    "df[\"wind_speed1\"] = df['wind_speed1'].astype(str).astype(int)\n",
    "df[\"wind_speed2\"] = df['wind_speed2'].astype(str).astype(int)\n",
    "\n",
    "col = df.loc[: , \"wind_speed1\":\"wind_speed2\"]\n",
    "df['wind_speed'] = col.mean(axis=1)\n",
    "df = df.drop(['wind_speed1', 'wind_speed2'], axis=1)\n",
    "\n",
    "# time cast and transform of data\n",
    "df['date'] = df['date'].astype(str)\n",
    "new = df['date'].str.split('.', expand = True)\n",
    "df['date'] = new[0] +'/'+ new[1] +'/'+ '20' + new[2]\n",
    "\n",
    "df['time'] = df['time'].astype(str)\n",
    "df['t1'], df['t2'], df['t3'], df['t4'] = df['time'].str[0], df['time'].str[1], df['time'].str[2], df['time'].str[3]\n",
    "df['datetime'] = np.where(df['t4'].isnull(), df['date'] + ' ' + df['t1'] + ':' + df['t2'] + df['t3'], df['date'] + ' ' + df['t1'] + df['t2'] +':'+ df['t3'] + df['t4'])\n",
    "df.loc[df['t2'].isnull(),'datetime'] = df['date'] + ' 00:00';\n",
    "\n",
    "df['datetime'] = pd.to_datetime(df['datetime'], format=\"%d/%m/%Y %H:%M\")\n",
    "\n",
    "df = df.drop(['time', 'date', 't1', 't2', 't3', 't4'], axis=1)\n"
   ]
  },
  {
   "cell_type": "code",
   "execution_count": 7,
   "metadata": {},
   "outputs": [
    {
     "output_type": "execute_result",
     "data": {
      "text/plain": "wind_direction                    int32\nwind_speed                      float64\ntemperature                       int64\neffective_temperature             int64\ndatetime                 datetime64[ns]\ndtype: object"
     },
     "metadata": {},
     "execution_count": 7
    }
   ],
   "source": [
    "df.dtypes"
   ]
  },
  {
   "cell_type": "code",
   "execution_count": null,
   "metadata": {},
   "outputs": [],
   "source": []
  },
  {
   "cell_type": "code",
   "execution_count": null,
   "metadata": {},
   "outputs": [],
   "source": []
  }
 ],
 "metadata": {
  "kernelspec": {
   "display_name": "Python 3.7.7 64-bit ('myenv': conda)",
   "language": "python",
   "name": "python37764bitmyenvconda592b411786ea4f71ae2b876f0162aa91"
  },
  "language_info": {
   "codemirror_mode": {
    "name": "ipython",
    "version": 3
   },
   "file_extension": ".py",
   "mimetype": "text/x-python",
   "name": "python",
   "nbconvert_exporter": "python",
   "pygments_lexer": "ipython3",
   "version": "3.7.7-final"
  }
 },
 "nbformat": 4,
 "nbformat_minor": 4
}